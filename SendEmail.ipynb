{
  "nbformat": 4,
  "nbformat_minor": 0,
  "metadata": {
    "colab": {
      "provenance": [],
      "authorship_tag": "ABX9TyNX8F75U9DyOz054Px/Ti6j",
      "include_colab_link": true
    },
    "kernelspec": {
      "name": "python3",
      "display_name": "Python 3"
    },
    "language_info": {
      "name": "python"
    }
  },
  "cells": [
    {
      "cell_type": "markdown",
      "metadata": {
        "id": "view-in-github",
        "colab_type": "text"
      },
      "source": [
        "<a href=\"https://colab.research.google.com/github/Mahdi-Miri/Send-Email-By-Python/blob/main/SendEmail.ipynb\" target=\"_parent\"><img src=\"https://colab.research.google.com/assets/colab-badge.svg\" alt=\"Open In Colab\"/></a>"
      ]
    },
    {
      "cell_type": "code",
      "execution_count": null,
      "metadata": {
        "id": "gJxAogkjxTCO"
      },
      "outputs": [],
      "source": [
        "### SMTP ON PYTHON ###"
      ]
    },
    {
      "cell_type": "code",
      "source": [
        "from smtplib import SMTP"
      ],
      "metadata": {
        "id": "Dw-nim9Vxt-9"
      },
      "execution_count": 5,
      "outputs": []
    }
  ]
}